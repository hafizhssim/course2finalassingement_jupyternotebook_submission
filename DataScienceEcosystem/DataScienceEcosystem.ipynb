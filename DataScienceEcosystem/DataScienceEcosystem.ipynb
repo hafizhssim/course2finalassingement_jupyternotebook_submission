{
 "cells": [
  {
   "cell_type": "markdown",
   "metadata": {},
   "source": [
    "<center>\n",
    "    <img src=\"https://cf-courses-data.s3.us.cloud-object-storage.appdomain.cloud/IBMDeveloperSkillsNetwork-DS0105EN-SkillsNetwork/labs/Module2/images/SN_web_lightmode.png\" width=\"300\" alt=\"cognitiveclass.ai logo\">\n",
    "</center>\n"
   ]
  },
  {
   "cell_type": "markdown",
   "metadata": {},
   "source": [
    "#### Add your code below following the instructions given in the course\n"
   ]
  },
  {
   "cell_type": "markdown",
   "metadata": {},
   "source": [
    "# Data Science Tools and Ecosystem"
   ]
  },
  {
   "cell_type": "markdown",
   "metadata": {
    "tags": []
   },
   "source": [
    "In this notebook, Data Science Tools and Ecosystem are summarized."
   ]
  },
  {
   "cell_type": "markdown",
   "metadata": {},
   "source": [
    "**Objectives:**\n",
    "* Popular Languages in Data Science\n",
    "* Common Library used in Data Science\n",
    "* Development Environment (Open-source)"
   ]
  },
  {
   "cell_type": "markdown",
   "metadata": {},
   "source": [
    "Some of the popular languages that Data Scientists use are:\n",
    "1. Python: Highly versatile and widely used for data manipulation, machine learning, and web development.\n",
    "2. R: Specializes in statistical analysis and data visualization.\n",
    "3. SQL: Essential for database management and data querying.\n",
    "4. Scala, Java, C++: These languages are often used in big data analytics and high-performance computing.\n",
    "5. Julia: A newer language gaining traction for high-performance numerical analysis.\n",
    "6. JavaScript, PHP, Go, Ruby, Visual Basic: These languages have niche use-cases, such as web-based data visualizations or specific types of data processing."
   ]
  },
  {
   "cell_type": "markdown",
   "metadata": {},
   "source": [
    "Some of the commonly used libraries used by Data Scientists include:\n",
    "1. Pandas: Think of it as an advanced calculator and organizer for your data. It's great for cleaning and analyzing data.\n",
    "2. NumPy: This is like the engine under Pandas' hood, focused on doing heavy math stuff quickly.\n",
    "3. Matplotlib: Imagine this as your art kit for drawing graphs and charts.\n",
    "4. Seaborn: This is like an upgraded art kit, making even fancier graphs based on Matplotlib.\n",
    "5. Scikit-learn: Consider this your beginner's guide to machine learning. It's built on top of NumPy and Matplotlib and is easy to get started with.\n",
    "6. Keras: This is like a simplified toolkit for building complex machine learning models.\n",
    "7. TensorFlow: Think of this as the industrial-grade toolkit for machine learning, used for big projects but a bit complicated.\n",
    "8. PyTorch: This is your experimental lab kit, great for trying out new machine learning ideas quickly.\n"
   ]
  },
  {
   "cell_type": "markdown",
   "metadata": {
    "tags": []
   },
   "source": [
    "|Data Science Tools|\n",
    "|------------------|\n",
    "|Jupyter|\n",
    "|Jupyter Lab|\n",
    "|Apache Zeppelin|\n",
    "|RStudio|\n",
    "|Spyder|\n",
    "|Visual Studio|\n"
   ]
  },
  {
   "cell_type": "markdown",
   "metadata": {
    "tags": []
   },
   "source": [
    "### Below are a few examples of evaluating arithmetic expressions in Python."
   ]
  },
  {
   "cell_type": "code",
   "execution_count": 2,
   "metadata": {
    "tags": []
   },
   "outputs": [
    {
     "data": {
      "text/plain": [
       "17"
      ]
     },
     "execution_count": 2,
     "metadata": {},
     "output_type": "execute_result"
    }
   ],
   "source": [
    "# This a simple arithmetic expression to mutiply then add integers.\n",
    "(3*4)+5"
   ]
  },
  {
   "cell_type": "code",
   "execution_count": 10,
   "metadata": {
    "tags": []
   },
   "outputs": [
    {
     "data": {
      "text/plain": [
       "3.3333333333333335"
      ]
     },
     "execution_count": 10,
     "metadata": {},
     "output_type": "execute_result"
    }
   ],
   "source": [
    "# This will convert 200 minutes to hours by diving by 60.\n",
    "# Convert 200 minutes to hours\n",
    "minutes = 200\n",
    "hours = minutes / 60\n",
    "hours"
   ]
  },
  {
   "cell_type": "markdown",
   "metadata": {},
   "source": [
    "## Author\n",
    "Hafiz Hassim"
   ]
  }
 ],
 "metadata": {
  "kernelspec": {
   "display_name": "Python",
   "language": "python",
   "name": "conda-env-python-py"
  },
  "language_info": {
   "codemirror_mode": {
    "name": "ipython",
    "version": 3
   },
   "file_extension": ".py",
   "mimetype": "text/x-python",
   "name": "python",
   "nbconvert_exporter": "python",
   "pygments_lexer": "ipython3",
   "version": "3.7.12"
  }
 },
 "nbformat": 4,
 "nbformat_minor": 4
}
